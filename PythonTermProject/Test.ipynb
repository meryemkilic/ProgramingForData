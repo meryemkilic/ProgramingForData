{
 "cells": [
  {
   "cell_type": "code",
   "execution_count": null,
   "id": "initial_id",
   "metadata": {
    "collapsed": true
   },
   "outputs": [],
   "source": [
    "import pandas as pd\n",
    "import os\n",
    "from CategoricalEncoder import CategoricalEncoder\n",
    "from DataTypeConverter import DataTypeConverter\n",
    "from DateTimeHandler import DateTimeHandler\n",
    "from BudgetHandler import BudgetHandler\n",
    "from MissingValueHandler import MissingValueHandler\n",
    "from Scaler import Scaler\n",
    "from OutlierHandler import OutlierHandler\n",
    "from Visualizer import Visualizer\n",
    "from DataFilter import DataFilter\n",
    "\n",
    "pd.set_option('display.max_columns', None)\n",
    "\n",
    "# Veri setini yükle\n",
    "data = pd.read_csv(\"C:\\\\Users\\\\Beyza\\\\Desktop\\\\synthetic_sample_data.csv\")\n",
    "data['Budget in USD'] = data['Budget in USD'].apply(lambda x: '{:,.2f}'.format(x))\n",
    "\n",
    "\n",
    "# Veri setinin ilk birkaç satırını görüntüle\n",
    "print(\"original data:\")\n",
    "print(data.head())"
   ]
  },
  {
   "cell_type": "code",
   "outputs": [],
   "source": [
    "encoder = CategoricalEncoder()\n",
    "\n",
    "def test_one_hot_encode():\n",
    "    # CategoricalEncoder sınıfını kullanarak One-Hot Encoding yapma\n",
    "    global data\n",
    "    data = encoder.one_hot_encode(data, 'Genre')\n",
    "    print(\"One-Hot Encoding result:\")\n",
    "    print(data.head())\n",
    "\n",
    "def test_label_encode():\n",
    "    # CategoricalEncoder sınıfını kullanarak Label Encoding yapma\n",
    "    global data\n",
    "    data = encoder.label_encode(data, 'Genre')\n",
    "    print(\"\\nLabel Encoding result:\")\n",
    "    print(data.head())"
   ],
   "metadata": {
    "collapsed": false
   },
   "id": "b43a6271501bc79",
   "execution_count": null
  },
  {
   "cell_type": "code",
   "outputs": [
    {
     "ename": "NameError",
     "evalue": "name 'DataTypeConverter' is not defined",
     "output_type": "error",
     "traceback": [
      "\u001B[1;31m---------------------------------------------------------------------------\u001B[0m",
      "\u001B[1;31mNameError\u001B[0m                                 Traceback (most recent call last)",
      "Cell \u001B[1;32mIn[2], line 1\u001B[0m\n\u001B[1;32m----> 1\u001B[0m converter \u001B[38;5;241m=\u001B[39m \u001B[43mDataTypeConverter\u001B[49m()\n\u001B[0;32m      4\u001B[0m \u001B[38;5;28;01mdef\u001B[39;00m \u001B[38;5;21mtest_convert_to_numeric\u001B[39m():\n\u001B[0;32m      5\u001B[0m     \u001B[38;5;28;01mglobal\u001B[39;00m data\n",
      "\u001B[1;31mNameError\u001B[0m: name 'DataTypeConverter' is not defined"
     ]
    }
   ],
   "source": [
    "converter = DataTypeConverter()\n",
    "\n",
    "def test_convert_to_numeric():\n",
    "    global data\n",
    "    numeric_columns = ['Awards', 'Genre']  # Dönüşüm yapılacak sayısal sütunların listesi\n",
    "    data = converter.convert_to_numeric(data, numeric_columns)\n",
    "    print(\"\\nNumerical Conversion result:\")\n",
    "    print(data.head())\n",
    "\n",
    "def test_convert_to_categorical():\n",
    "    # DataTypeConverter sınıfını kullanarak kategorik dönüşüm yapma\n",
    "    global data\n",
    "    categorical_columns = ['Genre', 'Shooting Location']  # Dönüşüm yapılacak kategorik sütunların listesi\n",
    "    data = converter.convert_to_categorical(data, categorical_columns)\n",
    "    print(\"\\nCategorical conversion result:\")\n",
    "    print(data.head())\n",
    "\n",
    "    print(\"\\nData Types:\")\n",
    "    print(data.dtypes)"
   ],
   "metadata": {
    "collapsed": false,
    "ExecuteTime": {
     "end_time": "2024-05-20T15:40:38.673151700Z",
     "start_time": "2024-05-20T15:40:38.046687500Z"
    }
   },
   "id": "c2308a098aa2b5de",
   "execution_count": 2
  },
  {
   "cell_type": "code",
   "outputs": [],
   "source": [
    "handler = DateTimeHandler()\n",
    "\n",
    "def test_convert_to_datetime():\n",
    "    # convert_to_datetime metodu testi\n",
    "    global data\n",
    "    data = handler.convert_to_datetime(data, 'Release Date')\n",
    "    print(\"\\nconvert to datetime Method Test:\")\n",
    "    print(data.head())\n",
    "\n",
    "def test_extract_date_parts():\n",
    "    # extract_date_parts metodu testi\n",
    "    global data\n",
    "    data = handler.extract_date_parts(data, 'Release Date')\n",
    "    print(\"\\nextract date parts Method Test:\")\n",
    "    print(data.head())"
   ],
   "metadata": {
    "collapsed": false
   },
   "id": "14f98c47c64513e1"
  },
  {
   "cell_type": "code",
   "outputs": [],
   "source": [
    "b_handler = BudgetHandler()\n",
    "\n",
    "def test_categorize_budget():\n",
    "    # categorize_budget metodunu çağır\n",
    "    global data\n",
    "    data['Budget in USD'] = data['Budget in USD'].str.replace(',', '').astype(float)\n",
    "    data = b_handler.categorize_budget(data, 'Budget in USD')\n",
    "    print(\"\\nCategorized Data:\\n\", data.head())"
   ],
   "metadata": {
    "collapsed": false
   },
   "id": "d97258cb6caa1727"
  }
 ],
 "metadata": {
  "kernelspec": {
   "display_name": "Python 3",
   "language": "python",
   "name": "python3"
  },
  "language_info": {
   "codemirror_mode": {
    "name": "ipython",
    "version": 2
   },
   "file_extension": ".py",
   "mimetype": "text/x-python",
   "name": "python",
   "nbconvert_exporter": "python",
   "pygments_lexer": "ipython2",
   "version": "2.7.6"
  }
 },
 "nbformat": 4,
 "nbformat_minor": 5
}
